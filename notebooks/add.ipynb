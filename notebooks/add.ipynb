{
 "cells": [
  {
   "cell_type": "code",
   "execution_count": null,
   "id": "311c6621-603f-45ba-ba61-67912f2bfae0",
   "metadata": {
    "extensions": {
     "jupyter_dashboards": {
      "activeView": "grid_default",
      "views": {
       "grid_default": {
        "col": null,
        "height": 2,
        "hidden": true,
        "row": null,
        "width": 2
       }
      }
     }
    }
   },
   "outputs": [],
   "source": [
    "from pynq import Overlay\n",
    "import os\n",
    "import sys\n",
    "\n",
    "HOP_DIR=os.path.abspath(\"../\")\n",
    "sys.path.insert(0, HOP_DIR)\n",
    "import pushpush\n",
    "\n",
    "OVERLAY_DIR=f'{HOP_DIR}/overlays/add/'"
   ]
  },
  {
   "cell_type": "markdown",
   "id": "bc416488-77f5-44e2-bd47-149045f3fd23",
   "metadata": {},
   "source": [
    "# Preparation\n",
    "#### Load the overlay onto the FPGA"
   ]
  },
  {
   "cell_type": "code",
   "execution_count": null,
   "id": "aead4ea7-a7ca-4493-a1b7-c6b60d45f6e6",
   "metadata": {
    "extensions": {
     "jupyter_dashboards": {
      "activeView": "grid_default",
      "views": {
       "grid_default": {
        "col": null,
        "height": 2,
        "hidden": true,
        "row": null,
        "width": 2
       }
      }
     }
    },
    "tags": []
   },
   "outputs": [],
   "source": [
    "ol = Overlay(OVERLAY_DIR + \"add.bit\")\n",
    "ol.ip_dict"
   ]
  },
  {
   "cell_type": "markdown",
   "id": "4b8bc869-9e72-451d-a8e4-422a32abc744",
   "metadata": {},
   "source": [
    "#### Register the overlay with the HoP context"
   ]
  },
  {
   "cell_type": "code",
   "execution_count": null,
   "id": "c3b1739d-1267-4d17-9004-b0f75a4cd4fd",
   "metadata": {},
   "outputs": [],
   "source": [
    "context = pushpush.Context(ol)"
   ]
  },
  {
   "cell_type": "markdown",
   "id": "e9ab4196-fa5f-4c3c-86c2-d8f32ca00188",
   "metadata": {},
   "source": [
    "# Use"
   ]
  },
  {
   "cell_type": "markdown",
   "id": "c9736bf4-8b1c-411f-a822-69efab322a0e",
   "metadata": {
    "extensions": {
     "jupyter_dashboards": {
      "activeView": "grid_default",
      "views": {
       "grid_default": {
        "col": null,
        "height": 2,
        "hidden": true,
        "row": null,
        "width": 2
       }
      }
     }
    }
   },
   "source": [
    "#### Create some python functions"
   ]
  },
  {
   "cell_type": "code",
   "execution_count": null,
   "id": "9a248a89-3570-47d0-ac2c-39e025cd3c75",
   "metadata": {
    "extensions": {
     "jupyter_dashboards": {
      "activeView": "grid_default",
      "views": {
       "grid_default": {
        "col": null,
        "height": 2,
        "hidden": true,
        "row": null,
        "width": 2
       }
      }
     }
    },
    "tags": []
   },
   "outputs": [],
   "source": [
    "def py_func1():\n",
    "    print(\"Hello from func1\")\n",
    "    return 56\n",
    "\n",
    "def py_func2():\n",
    "    print(\"Hello from func2\")    \n",
    "    return 1000\n",
    "\n",
    "def py_func3():\n",
    "    print(\"Hello from func3\")\n",
    "    return 100"
   ]
  },
  {
   "cell_type": "markdown",
   "id": "650a535e-bb26-4679-a683-4fe43191cb39",
   "metadata": {},
   "source": [
    "#### Register functions with HoP context"
   ]
  },
  {
   "cell_type": "code",
   "execution_count": null,
   "id": "0440379f-15d1-442e-927f-2488a67e36ee",
   "metadata": {
    "extensions": {
     "jupyter_dashboards": {
      "activeView": "grid_default",
      "views": {
       "grid_default": {
        "col": null,
        "height": 2,
        "hidden": true,
        "row": null,
        "width": 2
       }
      }
     }
    },
    "tags": []
   },
   "outputs": [],
   "source": [
    "a_py = context.register(py_func1, \"() -> b32\")\n",
    "b_py = context.register(py_func2, \"() -> b32\")\n",
    "c_py = context.register(py_func3, \"() -> b32\")"
   ]
  },
  {
   "cell_type": "markdown",
   "id": "9610d791-f3f2-47a8-ac4f-11cebad50e24",
   "metadata": {},
   "source": [
    "#### Register a variable"
   ]
  },
  {
   "cell_type": "code",
   "execution_count": null,
   "id": "8ea05c6f-4147-4c94-b318-afe0b315ac82",
   "metadata": {
    "extensions": {
     "jupyter_dashboards": {
      "activeView": "grid_default",
      "views": {
       "grid_default": {
        "col": null,
        "height": 2,
        "hidden": true,
        "row": null,
        "width": 2
       }
      }
     }
    },
    "tags": []
   },
   "outputs": [],
   "source": [
    "x = context.register(52, 'b16')"
   ]
  },
  {
   "cell_type": "code",
   "execution_count": null,
   "id": "0d879e5d-234c-4a8c-b5ee-8dce269c6a3e",
   "metadata": {
    "extensions": {
     "jupyter_dashboards": {
      "activeView": "grid_default",
      "views": {
       "grid_default": {
        "col": null,
        "height": 2,
        "hidden": true,
        "row": null,
        "width": 2
       }
      }
     }
    },
    "jupyter": {
     "source_hidden": true
    },
    "tags": []
   },
   "outputs": [],
   "source": [
    "context.print_all_objects()"
   ]
  },
  {
   "cell_type": "markdown",
   "id": "fbf47429-9ee6-4cda-bff2-e638e0823850",
   "metadata": {
    "extensions": {
     "jupyter_dashboards": {
      "activeView": "grid_default",
      "views": {
       "grid_default": {
        "col": null,
        "height": 2,
        "hidden": true,
        "row": null,
        "width": 2
       }
      }
     }
    }
   },
   "source": [
    "#### Get our hardware"
   ]
  },
  {
   "cell_type": "code",
   "execution_count": null,
   "id": "089ac408-eba6-4bdf-af72-3257cd50d6fb",
   "metadata": {
    "extensions": {
     "jupyter_dashboards": {
      "activeView": "grid_default",
      "views": {
       "grid_default": {
        "col": null,
        "height": 2,
        "hidden": true,
        "row": null,
        "width": 2
       }
      }
     }
    }
   },
   "outputs": [],
   "source": [
    "hw_add = context.functions['hardware']['add']"
   ]
  },
  {
   "cell_type": "markdown",
   "id": "0e6759a0-6200-4e8d-a063-07a31399b6f0",
   "metadata": {
    "extensions": {
     "jupyter_dashboards": {
      "activeView": "grid_default",
      "views": {
       "grid_default": {
        "col": null,
        "height": 2,
        "hidden": true,
        "row": null,
        "width": 2
       }
      }
     }
    }
   },
   "source": [
    "### Use Hardware as a regular function"
   ]
  },
  {
   "cell_type": "code",
   "execution_count": null,
   "id": "1dd14ac6-3975-4c78-9036-fdabb73fd413",
   "metadata": {
    "extensions": {
     "jupyter_dashboards": {
      "activeView": "grid_default",
      "views": {
       "grid_default": {
        "col": null,
        "height": 2,
        "hidden": true,
        "row": null,
        "width": 2
       }
      }
     }
    },
    "tags": []
   },
   "outputs": [],
   "source": [
    "hw_add(b_py, 3)"
   ]
  },
  {
   "cell_type": "code",
   "execution_count": null,
   "id": "918b54e7-5648-4948-9935-4d5d9818dd6a",
   "metadata": {},
   "outputs": [],
   "source": [
    "hw_add(a_py, b_py)"
   ]
  },
  {
   "cell_type": "code",
   "execution_count": null,
   "id": "406cbfc2-49f1-414c-9f07-925b6017d124",
   "metadata": {
    "extensions": {
     "jupyter_dashboards": {
      "activeView": "grid_default",
      "views": {
       "grid_default": {
        "col": null,
        "height": 2,
        "hidden": true,
        "row": null,
        "width": 2
       }
      }
     }
    }
   },
   "outputs": [],
   "source": [
    "hw_add(c_py, a_py)"
   ]
  },
  {
   "cell_type": "markdown",
   "id": "4c4eb752-87a1-4cca-9fd9-2f7d0fc5dfbc",
   "metadata": {
    "tags": []
   },
   "source": [
    "# Debug"
   ]
  },
  {
   "cell_type": "code",
   "execution_count": null,
   "id": "e0b69330-0c25-425c-9983-a40071389209",
   "metadata": {
    "extensions": {
     "jupyter_dashboards": {
      "activeView": "grid_default",
      "views": {
       "grid_default": {
        "col": null,
        "height": 2,
        "hidden": true,
        "row": null,
        "width": 2
       }
      }
     }
    },
    "tags": []
   },
   "outputs": [],
   "source": [
    "import importlib as il\n",
    "if 'context' in locals():\n",
    "    del context\n",
    "    il.reload(pushpush)\n",
    "    pushpush.Context.reloadModules()\n",
    "    context = pushpush.Context(ol)"
   ]
  }
 ],
 "metadata": {
  "extensions": {
   "jupyter_dashboards": {
    "activeView": "grid_default",
    "version": 1,
    "views": {
     "grid_default": {
      "cellMargin": 2,
      "defaultCellHeight": 60,
      "maxColumns": 12,
      "name": "grid",
      "type": "grid"
     }
    }
   }
  },
  "kernelspec": {
   "display_name": "Python 3 (ipykernel)",
   "language": "python",
   "name": "python3"
  },
  "language_info": {
   "codemirror_mode": {
    "name": "ipython",
    "version": 3
   },
   "file_extension": ".py",
   "mimetype": "text/x-python",
   "name": "python",
   "nbconvert_exporter": "python",
   "pygments_lexer": "ipython3",
   "version": "3.10.4"
  }
 },
 "nbformat": 4,
 "nbformat_minor": 5
}
