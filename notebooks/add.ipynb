{
 "cells": [
  {
   "cell_type": "code",
   "execution_count": null,
   "id": "429e14c3-8eb5-4fcc-aa14-c83805d8be05",
   "metadata": {
    "extensions": {
     "jupyter_dashboards": {
      "activeView": "grid_default",
      "views": {
       "grid_default": {
        "col": null,
        "height": 2,
        "hidden": true,
        "locked": true,
        "row": null,
        "width": 2
       }
      }
     }
    }
   },
   "outputs": [],
   "source": [
    "from pynq import Overlay\n",
    "import os\n",
    "import sys\n",
    "import numpy as np\n",
    "\n",
    "HOP_DIR=os.path.abspath(\"../\")\n",
    "sys.path.insert(0, HOP_DIR)\n",
    "import hop\n",
    "\n",
    "OVERLAY_DIR=f'{HOP_DIR}/overlays/a_add/'"
   ]
  },
  {
   "cell_type": "markdown",
   "id": "176c76c5-a200-4a0b-bead-c06cc941dcf5",
   "metadata": {
    "extensions": {
     "jupyter_dashboards": {
      "activeView": "grid_default",
      "views": {
       "grid_default": {
        "col": null,
        "height": 2,
        "hidden": true,
        "locked": true,
        "row": null,
        "width": 2
       }
      }
     }
    }
   },
   "source": [
    "# Preparation"
   ]
  },
  {
   "cell_type": "markdown",
   "id": "c8d9abff-ab1b-41a4-89ed-d73d2fb9dce6",
   "metadata": {
    "extensions": {
     "jupyter_dashboards": {
      "activeView": "grid_default",
      "views": {
       "grid_default": {
        "col": null,
        "height": 2,
        "hidden": true,
        "locked": true,
        "row": null,
        "width": 2
       }
      }
     }
    }
   },
   "source": [
    "#### Load the overlay onto the FPGA"
   ]
  },
  {
   "cell_type": "code",
   "execution_count": null,
   "id": "cdf8ccd5-8557-42bf-9806-676c18104f8f",
   "metadata": {
    "extensions": {
     "jupyter_dashboards": {
      "activeView": "grid_default",
      "views": {
       "grid_default": {
        "col": null,
        "height": 2,
        "hidden": true,
        "locked": true,
        "row": null,
        "width": 2
       }
      }
     }
    }
   },
   "outputs": [],
   "source": [
    "ol = Overlay(OVERLAY_DIR + \"add.bit\")"
   ]
  },
  {
   "cell_type": "code",
   "execution_count": null,
   "id": "3c29e9fa-7a7c-435b-af67-b6cc6a4b00fc",
   "metadata": {},
   "outputs": [],
   "source": [
    "ol.ip_dict"
   ]
  },
  {
   "cell_type": "markdown",
   "id": "eb52d1a1-644a-43f8-b551-96d8e37d6eeb",
   "metadata": {
    "extensions": {
     "jupyter_dashboards": {
      "activeView": "grid_default",
      "views": {
       "grid_default": {
        "col": null,
        "height": 2,
        "hidden": true,
        "locked": true,
        "row": null,
        "width": 2
       }
      }
     }
    }
   },
   "source": [
    "#### Register the overlay with the HoP context"
   ]
  },
  {
   "cell_type": "code",
   "execution_count": null,
   "id": "cff9e6bb-cd90-45f3-a4b5-532d297f7052",
   "metadata": {
    "extensions": {
     "jupyter_dashboards": {
      "activeView": "grid_default",
      "views": {
       "grid_default": {
        "col": null,
        "height": 2,
        "hidden": true,
        "locked": true,
        "row": null,
        "width": 2
       }
      }
     }
    }
   },
   "outputs": [],
   "source": [
    "context = hop.Context(ol)"
   ]
  },
  {
   "cell_type": "markdown",
   "id": "dad2d9c8-08b1-4048-8dc3-fa293e7ed909",
   "metadata": {
    "extensions": {
     "jupyter_dashboards": {
      "activeView": "grid_default",
      "views": {
       "grid_default": {
        "col": null,
        "height": 2,
        "hidden": true,
        "locked": true,
        "row": null,
        "width": 2
       }
      }
     }
    }
   },
   "source": [
    "# Use"
   ]
  },
  {
   "cell_type": "markdown",
   "id": "710a2d47-2b6f-4ba2-8da2-fab8414809b4",
   "metadata": {
    "extensions": {
     "jupyter_dashboards": {
      "activeView": "grid_default",
      "views": {
       "grid_default": {
        "col": null,
        "height": 2,
        "hidden": true,
        "locked": true,
        "row": null,
        "width": 2
       }
      }
     }
    }
   },
   "source": [
    "#### Create some python functions"
   ]
  },
  {
   "cell_type": "code",
   "execution_count": null,
   "id": "4608e47d-8cec-4cdc-a3ba-5828998e5101",
   "metadata": {
    "extensions": {
     "jupyter_dashboards": {
      "activeView": "grid_default",
      "views": {
       "grid_default": {
        "col": null,
        "height": 2,
        "hidden": true,
        "locked": true,
        "row": null,
        "width": 2
       }
      }
     }
    },
    "tags": []
   },
   "outputs": [],
   "source": [
    "def py_func1() -> int:\n",
    "    return 58\n",
    "\n",
    "def py_func2() -> int:\n",
    "    return 1000\n",
    "\n",
    "def py_func3() -> int:\n",
    "    return 100"
   ]
  },
  {
   "cell_type": "code",
   "execution_count": null,
   "id": "a5c3339b-7102-4ead-8014-4669f273534a",
   "metadata": {
    "extensions": {
     "jupyter_dashboards": {
      "activeView": "grid_default",
      "views": {
       "grid_default": {
        "col": 1,
        "height": 5,
        "hidden": true,
        "locked": true,
        "row": 0,
        "width": 11
       }
      }
     }
    },
    "tags": []
   },
   "outputs": [],
   "source": [
    "context.print_all_objects()"
   ]
  },
  {
   "cell_type": "markdown",
   "id": "194e7901-219a-44bd-9c60-83521ddd35c0",
   "metadata": {
    "extensions": {
     "jupyter_dashboards": {
      "activeView": "grid_default",
      "views": {
       "grid_default": {
        "col": null,
        "height": 2,
        "hidden": true,
        "locked": true,
        "row": null,
        "width": 2
       }
      }
     }
    }
   },
   "source": [
    "#### Register functions with HoP context"
   ]
  },
  {
   "cell_type": "code",
   "execution_count": null,
   "id": "04cc975e-a6d7-485a-b39d-ecd51ba14562",
   "metadata": {},
   "outputs": [],
   "source": [
    "import importlib as il\n",
    "if 'context' in locals():\n",
    "    del context\n",
    "    il.reload(hop)\n",
    "    hop.Context.reloadModules()\n",
    "    ol = Overlay(OVERLAY_DIR + \"a_add.bit\")\n",
    "    context = hop.Context(ol)\n",
    "\n",
    "a_py = context.register(py_func1, \"b32\")\n",
    "b_py = context.register(py_func2, \"b32\")\n",
    "c_py = context.register(py_func3, \"b32\")\n",
    "d_constant = context.register(1000, 'b32')"
   ]
  },
  {
   "cell_type": "code",
   "execution_count": null,
   "id": "b13a7fa8-9226-4450-b7f0-328764d917d3",
   "metadata": {},
   "outputs": [],
   "source": [
    "# Get our hardware\n",
    "add = context.functions['hardware']['add']"
   ]
  },
  {
   "cell_type": "markdown",
   "id": "f14c8faa-39d4-472e-a702-3bf69ec87212",
   "metadata": {},
   "source": [
    "### Use add interchangeably"
   ]
  },
  {
   "cell_type": "code",
   "execution_count": null,
   "id": "6d34b558-4a54-4012-847f-c74b557525fe",
   "metadata": {},
   "outputs": [],
   "source": [
    "print(add(1, np.uint(1000)))\n",
    "print(add(np.uint32(3), 1))\n",
    "print(add(np.uint32(50), add(np.uint32(25), np.uint32(25))))\n",
    "print(add(np.uint32(100), np.uint32(100)))\n",
    "add(np.uint32(150), np.uint32(150))"
   ]
  },
  {
   "cell_type": "markdown",
   "id": "1c5b3f1b-52a7-41df-ba7b-62b82f7c9884",
   "metadata": {
    "extensions": {
     "jupyter_dashboards": {
      "activeView": "grid_default",
      "views": {
       "grid_default": {
        "col": null,
        "height": 2,
        "hidden": true,
        "locked": true,
        "row": null,
        "width": 2
       }
      }
     }
    }
   },
   "source": [
    "### Reduce with hardware"
   ]
  },
  {
   "cell_type": "code",
   "execution_count": null,
   "id": "9e84f061-c846-41d2-8b99-d858bbda210a",
   "metadata": {
    "extensions": {
     "jupyter_dashboards": {
      "activeView": "grid_default",
      "views": {
       "grid_default": {
        "col": null,
        "height": 2,
        "hidden": true,
        "locked": true,
        "row": null,
        "width": 2
       }
      }
     }
    }
   },
   "outputs": [],
   "source": [
    "import functools \n",
    "import time\n",
    "\n",
    "l = [1] * 100\n",
    "hw_start = time.perf_counter()\n",
    "print(functools.reduce(add, l))\n",
    "hw_end = time.perf_counter()\n",
    "print(f'hw ttf: {hw_end - hw_start}')\n",
    "sw_start = time.perf_counter()\n",
    "print(functools.reduce(lambda a,b: a + b, l))\n",
    "sw_end = time.perf_counter()\n",
    "print(f'sw ttf: {sw_end - sw_start:.2f}')"
   ]
  },
  {
   "cell_type": "markdown",
   "id": "b2d4e8e6-1f28-42cb-9c25-b0ca347330f0",
   "metadata": {
    "extensions": {
     "jupyter_dashboards": {
      "activeView": "grid_default",
      "views": {
       "grid_default": {
        "col": null,
        "height": 2,
        "hidden": true,
        "locked": true,
        "row": null,
        "width": 2
       }
      }
     }
    }
   },
   "source": [
    "#### Imitate Keras Sequential Executor\n",
    "Tensorflow layers can be hardware, example of defining CNN:"
   ]
  },
  {
   "cell_type": "raw",
   "id": "0bb96a37-2997-4322-ba5c-43b1567d50ca",
   "metadata": {
    "extensions": {
     "jupyter_dashboards": {
      "activeView": "grid_default",
      "views": {
       "grid_default": {
        "col": null,
        "height": 2,
        "hidden": true,
        "locked": true,
        "row": null,
        "width": 2
       }
      }
     }
    }
   },
   "source": [
    "    cnn_layers = [Conv1D(data_t.shape[1], 3, activation = 'relu'),   \n",
    "                  MaxPooling1D(1, 2),,\n",
    "                  Dense(labels_total, activation = tf.nn.softmax)]\n",
    "            \n",
    "    cnn = tf.keras.Sequential(layers = cnn_layers)"
   ]
  },
  {
   "cell_type": "markdown",
   "id": "1cd006b5-6fc6-41df-8a73-e8cb74ae592f",
   "metadata": {
    "extensions": {
     "jupyter_dashboards": {
      "activeView": "grid_default",
      "views": {
       "grid_default": {
        "col": null,
        "height": 2,
        "hidden": true,
        "locked": true,
        "row": null,
        "width": 2
       }
      }
     }
    }
   },
   "source": [
    "##### Imitate above NN"
   ]
  },
  {
   "cell_type": "code",
   "execution_count": null,
   "id": "ae1a1663-eba2-4c36-b6d9-c655de748b28",
   "metadata": {
    "extensions": {
     "jupyter_dashboards": {
      "activeView": "grid_default",
      "views": {
       "grid_default": {
        "col": null,
        "height": 2,
        "hidden": true,
        "locked": true,
        "row": null,
        "width": 2
       }
      }
     }
    }
   },
   "outputs": [],
   "source": [
    "import random\n",
    "class fakeNN:\n",
    "    def __init__(self, layers):\n",
    "        self.layers = layers\n",
    "    \n",
    "    def singleEpoch(self, inputLayer):\n",
    "        output = inputLayer\n",
    "        for l in self.layers:\n",
    "            leftPercent = random.random()\n",
    "            rightPercent = 1.0 - leftPercent\n",
    "            left = int(leftPercent * output)\n",
    "            right = int(rightPercent * output)\n",
    "            output = l(left, right)\n",
    "        return output            "
   ]
  },
  {
   "cell_type": "code",
   "execution_count": null,
   "id": "78f5b7f2-e29e-4df8-9d15-ea4f0c964c27",
   "metadata": {
    "extensions": {
     "jupyter_dashboards": {
      "activeView": "grid_default",
      "views": {
       "grid_default": {
        "col": null,
        "height": 2,
        "hidden": true,
        "locked": true,
        "row": null,
        "width": 2
       }
      }
     }
    }
   },
   "outputs": [],
   "source": [
    "layers = [add,\n",
    "          add,\n",
    "          add]\n",
    "nn = fakeNN(layers)\n",
    "print(nn.singleEpoch(32))"
   ]
  },
  {
   "cell_type": "markdown",
   "id": "611464fd-6de0-4ec6-a4b4-8eb6f342079b",
   "metadata": {
    "extensions": {
     "jupyter_dashboards": {
      "activeView": "grid_default",
      "views": {
       "grid_default": {
        "col": null,
        "height": 2,
        "hidden": true,
        "locked": true,
        "row": null,
        "width": 2
       }
      }
     }
    },
    "tags": []
   },
   "source": [
    "# Debug"
   ]
  },
  {
   "cell_type": "code",
   "execution_count": null,
   "id": "3cbe67c0-8f06-431d-8ea3-3de0c8d6f92d",
   "metadata": {
    "extensions": {
     "jupyter_dashboards": {
      "activeView": "grid_default",
      "views": {
       "grid_default": {
        "col": null,
        "height": 2,
        "hidden": true,
        "locked": true,
        "row": null,
        "width": 2
       }
      }
     }
    }
   },
   "outputs": [],
   "source": [
    "add.printRegspacePretty()"
   ]
  }
 ],
 "metadata": {
  "extensions": {
   "jupyter_dashboards": {
    "activeView": "grid_default",
    "version": 1,
    "views": {
     "grid_default": {
      "cellMargin": 2,
      "defaultCellHeight": 40,
      "maxColumns": 12,
      "name": "grid",
      "type": "grid"
     }
    }
   }
  },
  "kernelspec": {
   "display_name": "Python 3 (ipykernel)",
   "language": "python",
   "name": "python3"
  },
  "language_info": {
   "codemirror_mode": {
    "name": "ipython",
    "version": 3
   },
   "file_extension": ".py",
   "mimetype": "text/x-python",
   "name": "python",
   "nbconvert_exporter": "python",
   "pygments_lexer": "ipython3",
   "version": "3.10.4"
  }
 },
 "nbformat": 4,
 "nbformat_minor": 5
}
