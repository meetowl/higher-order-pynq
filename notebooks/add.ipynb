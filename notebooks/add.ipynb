{
 "cells": [
  {
   "cell_type": "code",
   "execution_count": null,
   "id": "311c6621-603f-45ba-ba61-67912f2bfae0",
   "metadata": {
    "extensions": {
     "jupyter_dashboards": {
      "activeView": "grid_default",
      "views": {
       "grid_default": {
        "col": null,
        "height": 2,
        "hidden": true,
        "row": null,
        "width": 2
       }
      }
     }
    }
   },
   "outputs": [],
   "source": [
    "from pynq import Overlay\n",
    "import os\n",
    "import sys\n",
    "\n",
    "HOP_DIR=os.path.abspath(\"../\")\n",
    "sys.path.insert(0, HOP_DIR)\n",
    "import pushpush\n",
    "\n",
    "OVERLAY_DIR=f'{HOP_DIR}/overlays/add/'"
   ]
  },
  {
   "cell_type": "code",
   "execution_count": null,
   "id": "aead4ea7-a7ca-4493-a1b7-c6b60d45f6e6",
   "metadata": {
    "extensions": {
     "jupyter_dashboards": {
      "activeView": "grid_default",
      "views": {
       "grid_default": {
        "col": null,
        "height": 2,
        "hidden": true,
        "row": null,
        "width": 2
       }
      }
     }
    },
    "tags": []
   },
   "outputs": [],
   "source": [
    "ol = Overlay(OVERLAY_DIR + \"add.bit\")\n",
    "ol.ip_dict"
   ]
  },
  {
   "cell_type": "code",
   "execution_count": null,
   "id": "a30fbef1-657e-493c-b044-d977b6440225",
   "metadata": {
    "extensions": {
     "jupyter_dashboards": {
      "activeView": "grid_default",
      "views": {
       "grid_default": {
        "col": null,
        "height": 2,
        "hidden": true,
        "row": null,
        "width": 2
       }
      }
     }
    }
   },
   "outputs": [],
   "source": [
    "import importlib as il\n",
    "if 'context' in locals():\n",
    "    del context\n",
    "il.reload(pushpush)\n",
    "pushpush.Context.reloadModules()\n",
    "context = pushpush.Context(ol)"
   ]
  },
  {
   "cell_type": "markdown",
   "id": "c9736bf4-8b1c-411f-a822-69efab322a0e",
   "metadata": {
    "extensions": {
     "jupyter_dashboards": {
      "activeView": "grid_default",
      "views": {
       "grid_default": {
        "col": null,
        "height": 2,
        "hidden": true,
        "row": null,
        "width": 2
       }
      }
     }
    }
   },
   "source": [
    "### Create some Python pushpush objects"
   ]
  },
  {
   "cell_type": "code",
   "execution_count": null,
   "id": "e34e8b1a-7518-437b-bdb1-91fc7f6a54d6",
   "metadata": {
    "extensions": {
     "jupyter_dashboards": {
      "activeView": "grid_default",
      "views": {
       "grid_default": {
        "col": null,
        "height": 2,
        "hidden": true,
        "row": null,
        "width": 2
       }
      }
     }
    },
    "tags": []
   },
   "outputs": [],
   "source": [
    "def py_func1():\n",
    "    print(\"Hello from func1\")\n",
    "    return 56\n",
    "\n",
    "def py_func2():\n",
    "    print(\"Hello from func2\")    \n",
    "    return 1000\n",
    "\n",
    "def py_func3():\n",
    "    print(\"Hello from func3\")\n",
    "    return 100\n",
    "\n",
    "a_py = context.register(py_func1, \"() -> b32\")\n",
    "b_py = context.register(py_func2, \"() -> b32\")\n",
    "c_py = context.register(py_func3, \"() -> b32\")\n",
    "x = context.register(52, 'b64')"
   ]
  },
  {
   "cell_type": "code",
   "execution_count": null,
   "id": "0d879e5d-234c-4a8c-b5ee-8dce269c6a3e",
   "metadata": {
    "extensions": {
     "jupyter_dashboards": {
      "activeView": "grid_default",
      "views": {
       "grid_default": {
        "col": null,
        "height": 2,
        "hidden": true,
        "row": null,
        "width": 2
       }
      }
     }
    }
   },
   "outputs": [],
   "source": [
    "context.print_all_objects()"
   ]
  },
  {
   "cell_type": "markdown",
   "id": "fbf47429-9ee6-4cda-bff2-e638e0823850",
   "metadata": {
    "extensions": {
     "jupyter_dashboards": {
      "activeView": "grid_default",
      "views": {
       "grid_default": {
        "col": null,
        "height": 2,
        "hidden": true,
        "row": null,
        "width": 2
       }
      }
     }
    }
   },
   "source": [
    "### Get the hardware adder stub"
   ]
  },
  {
   "cell_type": "code",
   "execution_count": null,
   "id": "089ac408-eba6-4bdf-af72-3257cd50d6fb",
   "metadata": {
    "extensions": {
     "jupyter_dashboards": {
      "activeView": "grid_default",
      "views": {
       "grid_default": {
        "col": null,
        "height": 2,
        "hidden": true,
        "row": null,
        "width": 2
       }
      }
     }
    }
   },
   "outputs": [],
   "source": [
    "hw_add = context.functions['hardware']['add']"
   ]
  },
  {
   "cell_type": "markdown",
   "id": "0e6759a0-6200-4e8d-a063-07a31399b6f0",
   "metadata": {
    "extensions": {
     "jupyter_dashboards": {
      "activeView": "grid_default",
      "views": {
       "grid_default": {
        "col": null,
        "height": 2,
        "hidden": true,
        "row": null,
        "width": 2
       }
      }
     }
    }
   },
   "source": [
    "### Attempt to call the hardware adder stub passing in python pp objects as parameters"
   ]
  },
  {
   "cell_type": "code",
   "execution_count": null,
   "id": "1dd14ac6-3975-4c78-9036-fdabb73fd413",
   "metadata": {
    "extensions": {
     "jupyter_dashboards": {
      "activeView": "grid_default",
      "views": {
       "grid_default": {
        "col": null,
        "height": 2,
        "hidden": true,
        "row": null,
        "width": 2
       }
      }
     }
    },
    "tags": []
   },
   "outputs": [],
   "source": [
    "hw_add(a_py, x)"
   ]
  },
  {
   "cell_type": "markdown",
   "id": "0fe845f0-58f4-44ff-b0fa-3744579e0ae0",
   "metadata": {
    "extensions": {
     "jupyter_dashboards": {
      "activeView": "grid_default",
      "views": {
       "grid_default": {
        "col": null,
        "height": 2,
        "hidden": true,
        "row": null,
        "width": 2
       }
      }
     }
    }
   },
   "source": [
    "### Change the input paramters to pass in different functions"
   ]
  },
  {
   "cell_type": "code",
   "execution_count": null,
   "id": "406cbfc2-49f1-414c-9f07-925b6017d124",
   "metadata": {
    "extensions": {
     "jupyter_dashboards": {
      "activeView": "grid_default",
      "views": {
       "grid_default": {
        "col": null,
        "height": 2,
        "hidden": true,
        "row": null,
        "width": 2
       }
      }
     }
    }
   },
   "outputs": [],
   "source": [
    "hw_add(c_py, a_py)"
   ]
  },
  {
   "cell_type": "code",
   "execution_count": null,
   "id": "6203410b-f1b5-47f0-90a4-fbb4ddacdff7",
   "metadata": {
    "extensions": {
     "jupyter_dashboards": {
      "activeView": "grid_default",
      "views": {
       "grid_default": {
        "col": null,
        "height": 2,
        "hidden": true,
        "row": null,
        "width": 2
       }
      }
     }
    }
   },
   "outputs": [],
   "source": []
  }
 ],
 "metadata": {
  "extensions": {
   "jupyter_dashboards": {
    "activeView": "grid_default",
    "version": 1,
    "views": {
     "grid_default": {
      "cellMargin": 2,
      "defaultCellHeight": 60,
      "maxColumns": 12,
      "name": "grid",
      "type": "grid"
     }
    }
   }
  },
  "kernelspec": {
   "display_name": "Python 3",
   "language": "python",
   "name": "python3"
  },
  "language_info": {
   "codemirror_mode": {
    "name": "ipython",
    "version": 3
   },
   "file_extension": ".py",
   "mimetype": "text/x-python",
   "name": "python",
   "nbconvert_exporter": "python",
   "pygments_lexer": "ipython3",
   "version": "3.8.2"
  }
 },
 "nbformat": 4,
 "nbformat_minor": 5
}
