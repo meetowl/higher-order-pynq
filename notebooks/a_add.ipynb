{
 "cells": [
  {
   "cell_type": "code",
   "execution_count": null,
   "id": "429e14c3-8eb5-4fcc-aa14-c83805d8be05",
   "metadata": {},
   "outputs": [],
   "source": [
    "from pynq import Overlay\n",
    "import os\n",
    "import sys\n",
    "\n",
    "HOP_DIR=os.path.abspath(\"../\")\n",
    "sys.path.insert(0, HOP_DIR)\n",
    "import pushpush\n",
    "\n",
    "OVERLAY_DIR=f'{HOP_DIR}/overlays/a_add/'"
   ]
  },
  {
   "cell_type": "markdown",
   "id": "176c76c5-a200-4a0b-bead-c06cc941dcf5",
   "metadata": {},
   "source": [
    "# Preparation"
   ]
  },
  {
   "cell_type": "markdown",
   "id": "c8d9abff-ab1b-41a4-89ed-d73d2fb9dce6",
   "metadata": {},
   "source": [
    "#### Load the overlay onto the FPGA"
   ]
  },
  {
   "cell_type": "code",
   "execution_count": null,
   "id": "cdf8ccd5-8557-42bf-9806-676c18104f8f",
   "metadata": {},
   "outputs": [],
   "source": [
    "ol = Overlay(OVERLAY_DIR + \"a_add.bit\")"
   ]
  },
  {
   "cell_type": "markdown",
   "id": "eb52d1a1-644a-43f8-b551-96d8e37d6eeb",
   "metadata": {},
   "source": [
    "#### Register the overlay with the HoP context"
   ]
  },
  {
   "cell_type": "code",
   "execution_count": null,
   "id": "cff9e6bb-cd90-45f3-a4b5-532d297f7052",
   "metadata": {},
   "outputs": [],
   "source": [
    "context = pushpush.Context(ol)"
   ]
  },
  {
   "cell_type": "markdown",
   "id": "dad2d9c8-08b1-4048-8dc3-fa293e7ed909",
   "metadata": {},
   "source": [
    "# Use"
   ]
  },
  {
   "cell_type": "markdown",
   "id": "710a2d47-2b6f-4ba2-8da2-fab8414809b4",
   "metadata": {
    "extensions": {
     "jupyter_dashboards": {
      "activeView": "grid_default",
      "views": {
       "grid_default": {
        "col": null,
        "height": 2,
        "hidden": true,
        "row": null,
        "width": 2
       }
      }
     }
    }
   },
   "source": [
    "#### Create some python functions"
   ]
  },
  {
   "cell_type": "code",
   "execution_count": null,
   "id": "4608e47d-8cec-4cdc-a3ba-5828998e5101",
   "metadata": {
    "extensions": {
     "jupyter_dashboards": {
      "activeView": "grid_default",
      "views": {
       "grid_default": {
        "col": null,
        "height": 2,
        "hidden": true,
        "row": null,
        "width": 2
       }
      }
     }
    },
    "tags": []
   },
   "outputs": [],
   "source": [
    "def py_func1() -> int:\n",
    "    return 58\n",
    "\n",
    "def py_func2() -> int:\n",
    "    return 1000\n",
    "\n",
    "def py_func3() -> int:\n",
    "    return 100"
   ]
  },
  {
   "cell_type": "markdown",
   "id": "194e7901-219a-44bd-9c60-83521ddd35c0",
   "metadata": {},
   "source": [
    "#### Register functions with HoP context"
   ]
  },
  {
   "cell_type": "code",
   "execution_count": null,
   "id": "53147fad-467a-4e03-bafd-6e4bbdf22a0f",
   "metadata": {
    "extensions": {
     "jupyter_dashboards": {
      "activeView": "grid_default",
      "views": {
       "grid_default": {
        "col": null,
        "height": 2,
        "hidden": true,
        "row": null,
        "width": 2
       }
      }
     }
    },
    "tags": []
   },
   "outputs": [],
   "source": [
    "a_py = context.register(py_func1, \"() -> b32\")\n",
    "b_py = context.register(py_func2, \"() -> b32\")\n",
    "c_py = context.register(py_func3, \"() -> b32\")\n",
    "d_constant = context.register(1000, 'b32')"
   ]
  },
  {
   "cell_type": "code",
   "execution_count": null,
   "id": "a5c3339b-7102-4ead-8014-4669f273534a",
   "metadata": {},
   "outputs": [],
   "source": [
    "context.print_all_objects()"
   ]
  },
  {
   "cell_type": "markdown",
   "id": "09e33e7a-f4fa-4378-a045-bd2e0589d1e1",
   "metadata": {
    "extensions": {
     "jupyter_dashboards": {
      "activeView": "grid_default",
      "views": {
       "grid_default": {
        "col": null,
        "height": 2,
        "hidden": true,
        "row": null,
        "width": 2
       }
      }
     }
    }
   },
   "source": [
    "#### Get our hardware"
   ]
  },
  {
   "cell_type": "code",
   "execution_count": null,
   "id": "5d74555f-ad4f-4231-b501-b3b18ba4ac6b",
   "metadata": {},
   "outputs": [],
   "source": [
    "a_hw = context.functions['hardware']['a']\n",
    "add = context.functions['hardware']['add']"
   ]
  },
  {
   "cell_type": "markdown",
   "id": "ea003e64-d0bc-4bde-964a-5d0192af11f3",
   "metadata": {
    "extensions": {
     "jupyter_dashboards": {
      "activeView": "grid_default",
      "views": {
       "grid_default": {
        "col": null,
        "height": 2,
        "hidden": true,
        "row": null,
        "width": 2
       }
      }
     }
    }
   },
   "source": [
    "#### Use Hardware as a regular function\n",
    "You can mix hardware, functions, variables"
   ]
  },
  {
   "cell_type": "code",
   "execution_count": null,
   "id": "6f1f1798-1f9d-4e48-8ef5-356a016d96d5",
   "metadata": {},
   "outputs": [],
   "source": [
    "x = add(a_hw, a_py)\n",
    "print(x)\n",
    "y = add(add(a_py, b_py), add(a_py, d_constant))\n",
    "print(y)\n",
    "z = add(a_hw, 6)\n",
    "print(x)"
   ]
  },
  {
   "cell_type": "markdown",
   "id": "611464fd-6de0-4ec6-a4b4-8eb6f342079b",
   "metadata": {
    "tags": []
   },
   "source": [
    "# Debug"
   ]
  },
  {
   "cell_type": "code",
   "execution_count": null,
   "id": "b540e61a-723e-4641-8fbf-b68d3e58287e",
   "metadata": {
    "extensions": {
     "jupyter_dashboards": {
      "activeView": "grid_default",
      "views": {
       "grid_default": {
        "col": null,
        "height": 2,
        "hidden": true,
        "row": null,
        "width": 2
       }
      }
     }
    },
    "tags": []
   },
   "outputs": [],
   "source": [
    "import importlib as il\n",
    "if 'context' in locals():\n",
    "    del context\n",
    "    il.reload(pushpush)\n",
    "    pushpush.Context.reloadModules()\n",
    "    context = pushpush.Context(ol)"
   ]
  }
 ],
 "metadata": {
  "kernelspec": {
   "display_name": "Python 3 (ipykernel)",
   "language": "python",
   "name": "python3"
  },
  "language_info": {
   "codemirror_mode": {
    "name": "ipython",
    "version": 3
   },
   "file_extension": ".py",
   "mimetype": "text/x-python",
   "name": "python",
   "nbconvert_exporter": "python",
   "pygments_lexer": "ipython3",
   "version": "3.10.4"
  }
 },
 "nbformat": 4,
 "nbformat_minor": 5
}
