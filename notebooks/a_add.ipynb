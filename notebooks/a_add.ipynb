{
 "cells": [
  {
   "cell_type": "code",
   "execution_count": null,
   "id": "429e14c3-8eb5-4fcc-aa14-c83805d8be05",
   "metadata": {},
   "outputs": [],
   "source": [
    "from pynq import Overlay\n",
    "import os\n",
    "import sys\n",
    "\n",
    "HOP_DIR=os.path.abspath(\"../\")\n",
    "sys.path.insert(0, HOP_DIR)\n",
    "import pushpush\n",
    "\n",
    "OVERLAY_DIR=f'{HOP_DIR}/overlays/a_add/'"
   ]
  },
  {
   "cell_type": "code",
   "execution_count": null,
   "id": "cdf8ccd5-8557-42bf-9806-676c18104f8f",
   "metadata": {},
   "outputs": [],
   "source": [
    "ol = Overlay(OVERLAY_DIR + \"a_add.bit\")\n",
    "ol.ip_dict"
   ]
  },
  {
   "cell_type": "code",
   "execution_count": null,
   "id": "b540e61a-723e-4641-8fbf-b68d3e58287e",
   "metadata": {
    "extensions": {
     "jupyter_dashboards": {
      "activeView": "grid_default",
      "views": {
       "grid_default": {
        "col": null,
        "height": 2,
        "hidden": true,
        "row": null,
        "width": 2
       }
      }
     }
    }
   },
   "outputs": [],
   "source": [
    "import importlib as il\n",
    "if 'context' in locals():\n",
    "    del context\n",
    "    il.reload(pushpush)\n",
    "    pushpush.Context.reloadModules()\n",
    "context = pushpush.Context(ol)"
   ]
  },
  {
   "cell_type": "code",
   "execution_count": null,
   "id": "ede73f1e-e011-46fd-acc3-b276105a5643",
   "metadata": {
    "extensions": {
     "jupyter_dashboards": {
      "activeView": "grid_default",
      "views": {
       "grid_default": {
        "col": null,
        "height": 2,
        "hidden": true,
        "row": null,
        "width": 2
       }
      }
     }
    },
    "tags": []
   },
   "outputs": [],
   "source": [
    "def py_func1():\n",
    "    print(\"Hello from func1\")\n",
    "    return 58\n",
    "\n",
    "def py_func2():\n",
    "    print(\"Hello from func2\")    \n",
    "    return 1000\n",
    "\n",
    "def py_func3():\n",
    "    print(\"Hello from func3\")\n",
    "    return 100\n",
    "\n",
    "a_py = context.register(py_func1, \"() -> b32\")\n",
    "b_py = context.register(py_func2, \"() -> b32\")\n",
    "c_py = context.register(py_func3, \"() -> b32\")\n",
    "d_var = context.register(1000, 'b32')"
   ]
  },
  {
   "cell_type": "code",
   "execution_count": null,
   "id": "a5c3339b-7102-4ead-8014-4669f273534a",
   "metadata": {},
   "outputs": [],
   "source": [
    "context.print_all_objects()"
   ]
  },
  {
   "cell_type": "code",
   "execution_count": null,
   "id": "5d74555f-ad4f-4231-b501-b3b18ba4ac6b",
   "metadata": {},
   "outputs": [],
   "source": [
    "a = context.functions['hardware']['a']\n",
    "add = context.functions['hardware']['add']"
   ]
  },
  {
   "cell_type": "code",
   "execution_count": null,
   "id": "c7c6fd62-05f3-470c-8def-9d128ffbe1ae",
   "metadata": {},
   "outputs": [],
   "source": [
    "x = context.register(add(a_py, d_var), 'b32')\n",
    "print(x)\n",
    "y = context.register(add(a, b_py), 'b32')\n",
    "print(str(y))\n",
    "z = add(x, y)\n",
    "print(z)"
   ]
  },
  {
   "cell_type": "code",
   "execution_count": null,
   "id": "6ebc2f01-abcc-472f-976f-50f54bad2615",
   "metadata": {},
   "outputs": [],
   "source": []
  },
  {
   "cell_type": "code",
   "execution_count": null,
   "id": "993eefda-4c47-416e-ac6d-32f3e063325b",
   "metadata": {},
   "outputs": [],
   "source": []
  }
 ],
 "metadata": {
  "kernelspec": {
   "display_name": "Python 3 (ipykernel)",
   "language": "python",
   "name": "python3"
  },
  "language_info": {
   "codemirror_mode": {
    "name": "ipython",
    "version": 3
   },
   "file_extension": ".py",
   "mimetype": "text/x-python",
   "name": "python",
   "nbconvert_exporter": "python",
   "pygments_lexer": "ipython3",
   "version": "3.10.4"
  }
 },
 "nbformat": 4,
 "nbformat_minor": 5
}
