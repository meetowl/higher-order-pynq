{
 "cells": [
  {
   "cell_type": "code",
   "execution_count": null,
   "id": "311c6621-603f-45ba-ba61-67912f2bfae0",
   "metadata": {},
   "outputs": [],
   "source": [
    "from pynq import Overlay\n",
    "import os\n",
    "import sys\n",
    "\n",
    "sys.path.insert(0, '../')\n",
    "import pushpush\n",
    "\n",
    "OVERLAY_DIR='../overlays/cmp/'"
   ]
  },
  {
   "cell_type": "code",
   "execution_count": null,
   "id": "6df27d3a-2798-41ce-bad3-36f56b663a2f",
   "metadata": {},
   "outputs": [],
   "source": [
    "ol = Overlay(OVERLAY_DIR + \"cmp.bit\")\n",
    "context = pushpush.Context(ol)\n",
    "ol.ip_dict"
   ]
  },
  {
   "cell_type": "markdown",
   "id": "c9736bf4-8b1c-411f-a822-69efab322a0e",
   "metadata": {},
   "source": [
    "### Create some Python pushpush objects"
   ]
  },
  {
   "cell_type": "code",
   "execution_count": null,
   "id": "e34e8b1a-7518-437b-bdb1-91fc7f6a54d6",
   "metadata": {},
   "outputs": [],
   "source": [
    "def py_func1():\n",
    "    print(\"Hello from func1\")\n",
    "    return 42\n",
    "\n",
    "def py_func2():\n",
    "    print(\"Hello from func2\")    \n",
    "    return 2\n",
    "\n",
    "def py_func3():\n",
    "    print(\"Hello from func3\")\n",
    "    return 42\n",
    "\n",
    "a_py = context.register(py_func1, \"exp\")\n",
    "b_py = context.register(py_func2, \"exp\")\n",
    "c_py = context.register(py_func3, \"exp\")"
   ]
  },
  {
   "cell_type": "code",
   "execution_count": null,
   "id": "0d879e5d-234c-4a8c-b5ee-8dce269c6a3e",
   "metadata": {},
   "outputs": [],
   "source": [
    "context.print_all_objects()"
   ]
  },
  {
   "cell_type": "markdown",
   "id": "fbf47429-9ee6-4cda-bff2-e638e0823850",
   "metadata": {},
   "source": [
    "### Get the hardware comparerstub"
   ]
  },
  {
   "cell_type": "code",
   "execution_count": null,
   "id": "b67d2ec2-fd5e-4b14-a2d0-7f456c5314f5",
   "metadata": {},
   "outputs": [],
   "source": [
    "intcmp = context.hw[\"cmp\"]"
   ]
  },
  {
   "cell_type": "code",
   "execution_count": null,
   "id": "1dd14ac6-3975-4c78-9036-fdabb73fd413",
   "metadata": {},
   "outputs": [],
   "source": [
    "intcmp(a_py, b_py)"
   ]
  },
  {
   "cell_type": "code",
   "execution_count": null,
   "id": "406cbfc2-49f1-414c-9f07-925b6017d124",
   "metadata": {},
   "outputs": [],
   "source": [
    "intcmp(c_py, a_py)"
   ]
  }
 ],
 "metadata": {
  "kernelspec": {
   "display_name": "Python 3",
   "language": "python",
   "name": "python3"
  },
  "language_info": {
   "codemirror_mode": {
    "name": "ipython",
    "version": 3
   },
   "file_extension": ".py",
   "mimetype": "text/x-python",
   "name": "python",
   "nbconvert_exporter": "python",
   "pygments_lexer": "ipython3",
   "version": "3.8.2"
  }
 },
 "nbformat": 4,
 "nbformat_minor": 5
}
