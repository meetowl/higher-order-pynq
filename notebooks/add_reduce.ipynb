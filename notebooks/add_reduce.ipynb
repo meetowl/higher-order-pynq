{
 "cells": [
  {
   "cell_type": "code",
   "execution_count": null,
   "id": "c752dc0a-be7a-4323-bbc4-39ad5fa0eda3",
   "metadata": {},
   "outputs": [],
   "source": [
    "from pynq import Overlay\n",
    "import os\n",
    "import sys\n",
    "import numpy as np\n",
    "\n",
    "HOP_DIR=os.path.abspath(\"../\")\n",
    "sys.path.insert(0, HOP_DIR)\n",
    "import hop\n",
    "import stubs\n",
    "\n",
    "#OVERLAY_DIR= os.path.join(HOP_DIR, 'overlays', 'add_reduce')\n",
    "OVERLAY_DIR= os.path.join(HOP_DIR, 'overlays', 'add_reduce')\n",
    "\n",
    "print(OVERLAY_DIR)"
   ]
  },
  {
   "cell_type": "code",
   "execution_count": null,
   "id": "47d85a88-7d8b-42e8-aa26-d9bfd452b8cb",
   "metadata": {},
   "outputs": [],
   "source": [
    "ol = Overlay(os.path.join(OVERLAY_DIR, \"add_reduce.bit\"))"
   ]
  },
  {
   "cell_type": "code",
   "execution_count": null,
   "id": "f6720570-2717-49d3-9c36-5cb7d711f181",
   "metadata": {},
   "outputs": [],
   "source": [
    "ol.ip_dict"
   ]
  },
  {
   "cell_type": "code",
   "execution_count": null,
   "id": "3fb1baac-11eb-4d5b-ac9b-554d8bdfa12e",
   "metadata": {},
   "outputs": [],
   "source": [
    "import importlib as il\n",
    "\n",
    "il.reload(hop)\n",
    "hop.Context.reloadModules()\n",
    "\n",
    "if 'context' in locals():\n",
    "    del context"
   ]
  },
  {
   "cell_type": "code",
   "execution_count": null,
   "id": "f3748e22-0040-4a97-8b5e-674a1db1cc8c",
   "metadata": {
    "tags": []
   },
   "outputs": [],
   "source": [
    "context = hop.Context(ol)"
   ]
  },
  {
   "cell_type": "code",
   "execution_count": null,
   "id": "ce1e26ba-4ecf-46bf-b030-bed2a90b3dc4",
   "metadata": {},
   "outputs": [],
   "source": [
    "add_reduce = context.functions['hardware']['add_reduce']\n",
    "add = context.functions['hardware']['add']"
   ]
  },
  {
   "cell_type": "code",
   "execution_count": null,
   "id": "1efaf0cf-5c57-48ee-8b23-369c9808e3dc",
   "metadata": {},
   "outputs": [],
   "source": [
    "l = [1] * 262144\n",
    "print(f'{len(l)} == {add_reduce(l)}')"
   ]
  },
  {
   "cell_type": "code",
   "execution_count": null,
   "id": "a419cad8-cc1f-4d7a-b171-0b79b89bb77e",
   "metadata": {},
   "outputs": [],
   "source": [
    "add_reduce.printRegspacePretty()"
   ]
  },
  {
   "cell_type": "markdown",
   "id": "eee86696-3a1c-4f45-aefa-52595244d9cf",
   "metadata": {},
   "source": [
    "## Performance Comparison"
   ]
  },
  {
   "cell_type": "code",
   "execution_count": null,
   "id": "3b94e327-80d6-4e64-bd19-18c05b1cc208",
   "metadata": {},
   "outputs": [],
   "source": [
    "def reduce_py(arr):\n",
    "    acc = 0\n",
    "    for n in arr:\n",
    "        acc += n\n",
    "    return acc"
   ]
  },
  {
   "cell_type": "code",
   "execution_count": null,
   "id": "d77b923b-45fe-46f8-adb5-d3fdaa3e7381",
   "metadata": {},
   "outputs": [],
   "source": [
    "import functools \n",
    "def reduce_fn(arr):\n",
    "    return functools.reduce(lambda a,b: a + b, arr)"
   ]
  },
  {
   "cell_type": "code",
   "execution_count": null,
   "id": "cd0b8994-01b3-4e1c-a6b4-e586abe0186b",
   "metadata": {},
   "outputs": [],
   "source": [
    "def reduce_np(arr:'np.ndarray'):\n",
    "    return np.add.reduce(arr)"
   ]
  },
  {
   "cell_type": "code",
   "execution_count": null,
   "id": "db7fd75c-b608-4c66-b601-5b71d71c991b",
   "metadata": {},
   "outputs": [],
   "source": [
    "import time\n",
    "import random\n",
    "def run_test_suite(tests, l):\n",
    "    print('       00%', end='')\n",
    "    hw_start = time.time()\n",
    "    for _ in range(tests):\n",
    "        add_reduce(l)\n",
    "    hw_end = time.time()\n",
    "    \n",
    "    print('\\r       25%', end='')\n",
    "\n",
    "    py_start = time.time()\n",
    "    for _ in range(tests):\n",
    "        reduce_py(l)\n",
    "    py_end = time.time()\n",
    "\n",
    "    print('\\r       50%', end='')\n",
    "\n",
    "    fn_start = time.time()\n",
    "    for _ in range(tests):\n",
    "        reduce_fn(l)\n",
    "    fn_end = time.time()\n",
    "\n",
    "    print('\\r       75%', end='')\n",
    "\n",
    "    np_start = time.time()\n",
    "    for i in range(tests):\n",
    "        reduce_np(l)\n",
    "    np_end = time.time()\n",
    "\n",
    "    print('\\r      100%')\n",
    "    \n",
    "    hw_time = hw_end - hw_start\n",
    "    py_time = py_end - py_start\n",
    "    fn_time = fn_end - fn_start\n",
    "    np_time = np_end - np_start\n",
    "\n",
    "    return (hw_time, py_time, fn_time, np_time)"
   ]
  },
  {
   "cell_type": "code",
   "execution_count": null,
   "id": "47d48585-5961-4886-be6b-b743f184275b",
   "metadata": {},
   "outputs": [],
   "source": [
    "data_size = 262144 # * 32b == 1 MiB\n",
    "\n",
    "Ns = [1, 10, 100]\n",
    "R = 10\n",
    "Ls = [np.full(shape=(data_size,), fill_value=1, dtype=np.uint32),\n",
    "         list(np.full(shape=(data_size,), fill_value=1, dtype=np.uint32)),\n",
    "         list(np.full(shape=(data_size,), fill_value=1, dtype=int)),\n",
    "         [random.randint(0, pow(2,32)) for _ in range(data_size) ]]\n",
    "results = np.ndarray(shape=(len(lists), len(Ns), R, 4))"
   ]
  },
  {
   "cell_type": "code",
   "execution_count": null,
   "id": "99cc7917-2920-42cf-9670-96499615a3c9",
   "metadata": {
    "tags": []
   },
   "outputs": [],
   "source": [
    "for Ln in range(len(Ls)):\n",
    "    print(f'L: {Ln}')\n",
    "    for r in range(R):\n",
    "        print(f'  R: {r}')\n",
    "        for Nn in range(len(Ns)):\n",
    "            print(f'    N: {Ns[Nn]}')\n",
    "            (h, p, f, n) = run_test_suite(Ns[Nn], Ls[Ln])\n",
    "            results[Ln, Nn, r, 0] = h\n",
    "            results[Ln, Nn, r, 1] = p\n",
    "            results[Ln, Nn, r, 2] = f\n",
    "            results[Ln, Nn, r, 3] = n"
   ]
  },
  {
   "cell_type": "code",
   "execution_count": null,
   "id": "86743924-6599-43b6-be50-fe41f4d36e44",
   "metadata": {},
   "outputs": [],
   "source": [
    "with open(\"results.csv\", 'wb') as rf:\n",
    "    np.save(rf, results)"
   ]
  },
  {
   "cell_type": "code",
   "execution_count": null,
   "id": "b5e2dc35-2c95-4e6e-b61c-96507d811e8d",
   "metadata": {},
   "outputs": [],
   "source": [
    "results = np.load('results.csv')"
   ]
  },
  {
   "cell_type": "code",
   "execution_count": null,
   "id": "4e948551-7746-4cd7-92ee-8626f94a5409",
   "metadata": {},
   "outputs": [],
   "source": [
    "# (List, Test size, Run number, Result)\n",
    "results.shape"
   ]
  },
  {
   "cell_type": "code",
   "execution_count": null,
   "id": "a8a2c9fb-a0ea-46fd-83be-d69b545cb85c",
   "metadata": {},
   "outputs": [],
   "source": [
    "\n",
    "print(np.mean(results[0, 1, :, testDict['Hardware']]))\n",
    "print(np.mean(results[0, 1, :, testDict['Numpy']]))"
   ]
  },
  {
   "cell_type": "code",
   "execution_count": null,
   "id": "14a1efff-25b5-4431-8a30-03a1f2076c21",
   "metadata": {},
   "outputs": [],
   "source": [
    "print(f'Python:      {py_time}')\n",
    "print(f'Functional:  {fn_time}')\n",
    "print(f'Numpy:       {np_time}')\n",
    "print(f'Hardware:    {hw_time}')\n",
    "print(f'PY/HW Speed: {(py_time / hw_time) * 100:.2f}%')\n",
    "print(f'FN/HW Speed: {(fn_time / hw_time) * 100:.2f}%')\n",
    "print(f'NP/HW Speed: {(np_time / hw_time) * 100:.2f}%')"
   ]
  },
  {
   "cell_type": "code",
   "execution_count": null,
   "id": "b18acb12-8744-4b54-8c40-0b72311079f5",
   "metadata": {},
   "outputs": [],
   "source": [
    "import matplotlib.pyplot as plt\n",
    "testNames = ['Hardware', 'Python', 'Functools', 'Numpy']\n",
    "testDict = {'Hardware': 0, 'Python': 1, 'Functools': 2, 'Numpy': 3}\n",
    "listDict = {0: 'ndarray', 1: 'np_cast_uint32', 2: 'np_cast_int', 3: 'list'}\n",
    "testsDict = {0: '1t', 1: '10t', 2: '100t'}\n",
    "\n",
    "for sel in range(4):\n",
    "    fig, ax = plt.subplots()\n",
    "    ax.set_ylabel('Execution time - seconds (Less is better)')\n",
    "      \n",
    "    for i in [0, 3]:\n",
    "        ax.violinplot(results[sel, 2, :, :])\n",
    "        \n",
    "    ax.set_xticks([1, 2])\n",
    "    ax.set_xticklabels(['Hardware', 'Numpy'])\n",
    "    fig.set_figwidth(6)\n",
    "    fig.set_figheight(8)\n",
    "    plt.style.use('fivethirtyeight')\n",
    "    file = f'plots/{listDict[sel[0]]}-{testsDict[sel[1]]}-numpy_hw'\n",
    "    plt.savefig(file, bbox_inches='tight')\n",
    "    plt.show"
   ]
  },
  {
   "cell_type": "code",
   "execution_count": null,
   "id": "ed7d8a6b",
   "metadata": {},
   "outputs": [],
   "source": [
    "import matplotlib.pyplot as plt\n",
    "testNames = ['Hardware', 'Python', 'Functools', 'Numpy']\n",
    "testDict = {'Hardware': 0, 'Python': 1, 'Functools': 2, 'Numpy': 3}\n",
    "listDict = {0: 'ndarray', 1: 'np_cast_uint32', 2: 'np_cast_int', 3: 'list'}\n",
    "testsDict = {0: '1t', 1: '10t', 2: '100t'}\n",
    "\n",
    "for sel in range(4):\n",
    "    fig, ax = plt.subplots()\n",
    "    ax.set_ylabel('Execution time - seconds (Less is better)')\n",
    "      \n",
    "    ax.violinplot(results[sel, 2, :, 0], positions=[1])\n",
    "    ax.violinplot(results[sel, 2, :, 3], positions=[2])\n",
    "        \n",
    "    ax.set_xticks([1, 2])\n",
    "    ax.set_xticklabels(['Hardware', 'Numpy'])\n",
    "    fig.set_figwidth(6)\n",
    "    fig.set_figheight(8)\n",
    "    plt.style.use('fivethirtyeight')\n",
    "    file = f'plots/{listDict[sel]}-100t-numpy_hw'\n",
    "    plt.savefig(file, bbox_inches='tight')\n",
    "    plt.show()\n",
    "    plt.close()"
   ]
  },
  {
   "cell_type": "code",
   "execution_count": null,
   "id": "ad30ff76-ebd7-45e3-aa59-94bb0e880f5f",
   "metadata": {},
   "outputs": [],
   "source": [
    "f'{(np.average(results[0, 2, :, 3]) / np.average(results[0, 2, :, 0])) * 100 :.2f}%'"
   ]
  },
  {
   "cell_type": "code",
   "execution_count": null,
   "id": "9a35a78b-71a9-49fe-9fa4-3ee1be284bb5",
   "metadata": {},
   "outputs": [],
   "source": [
    "m = 0\n",
    "for i in range(4):\n",
    "    j = np.argmax(np.std(results[i, 2, :, :], axis=0))\n",
    "    m = max(np.std(results[i, 2, :, j]) / np.mean(results[i, 2, :, j]), m)\n",
    "print(f'{(m * 100):.2f}%')"
   ]
  },
  {
   "cell_type": "code",
   "execution_count": null,
   "id": "00cd665f-6639-421d-85b2-bac60de913f7",
   "metadata": {},
   "outputs": [],
   "source": []
  }
 ],
 "metadata": {
  "kernelspec": {
   "display_name": "Python 3 (ipykernel)",
   "language": "python",
   "name": "python3"
  },
  "language_info": {
   "codemirror_mode": {
    "name": "ipython",
    "version": 3
   },
   "file_extension": ".py",
   "mimetype": "text/x-python",
   "name": "python",
   "nbconvert_exporter": "python",
   "pygments_lexer": "ipython3",
   "version": "3.10.4"
  }
 },
 "nbformat": 4,
 "nbformat_minor": 5
}
