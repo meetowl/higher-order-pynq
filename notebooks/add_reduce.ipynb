{
 "cells": [
  {
   "cell_type": "code",
   "execution_count": null,
   "id": "c752dc0a-be7a-4323-bbc4-39ad5fa0eda3",
   "metadata": {},
   "outputs": [],
   "source": [
    "from pynq import Overlay\n",
    "import os\n",
    "import sys\n",
    "import numpy as np\n",
    "\n",
    "HOP_DIR=os.path.abspath(\"../\")\n",
    "sys.path.insert(0, HOP_DIR)\n",
    "import pushpush\n",
    "\n",
    "OVERLAY_DIR=f'{HOP_DIR}/overlays/reduce_with_add/'"
   ]
  },
  {
   "cell_type": "code",
   "execution_count": null,
   "id": "47d85a88-7d8b-42e8-aa26-d9bfd452b8cb",
   "metadata": {},
   "outputs": [],
   "source": [
    "ol = Overlay(OVERLAY_DIR + \"a_add.bit\")\n",
    "ol.ip_dict"
   ]
  },
  {
   "cell_type": "code",
   "execution_count": null,
   "id": "f3748e22-0040-4a97-8b5e-674a1db1cc8c",
   "metadata": {},
   "outputs": [],
   "source": [
    "context = pushpush.Context(ol)"
   ]
  },
  {
   "cell_type": "code",
   "execution_count": null,
   "id": "1630f04d-5c0e-4577-8b51-0022d48d08e3",
   "metadata": {},
   "outputs": [],
   "source": [
    "l = [x + 1 for x in range(100)]"
   ]
  },
  {
   "cell_type": "code",
   "execution_count": null,
   "id": "e7de3483-eaf9-4b13-a2f6-999af541e811",
   "metadata": {},
   "outputs": [],
   "source": [
    "ar_hw = context.['hardware']['add_reduce']\n",
    "print(ar_hw(l))"
   ]
  }
 ],
 "metadata": {
  "kernelspec": {
   "display_name": "Python 3 (ipykernel)",
   "language": "python",
   "name": "python3"
  },
  "language_info": {
   "codemirror_mode": {
    "name": "ipython",
    "version": 3
   },
   "file_extension": ".py",
   "mimetype": "text/x-python",
   "name": "python",
   "nbconvert_exporter": "python",
   "pygments_lexer": "ipython3",
   "version": "3.10.4"
  }
 },
 "nbformat": 4,
 "nbformat_minor": 5
}
