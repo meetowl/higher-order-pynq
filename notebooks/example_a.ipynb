{
 "cells": [
  {
   "cell_type": "code",
   "execution_count": null,
   "id": "311c6621-603f-45ba-ba61-67912f2bfae0",
   "metadata": {},
   "outputs": [],
   "source": [
    "from pynq import Overlay\n",
    "import os\n",
    "import sys\n",
    "\n",
    "sys.path.insert(0, '../')\n",
    "import pushpush\n",
    "\n",
    "OVERLAY_DIR='../overlays/example_a/'"
   ]
  },
  {
   "cell_type": "markdown",
   "id": "d5341288-2b02-4311-9deb-c0012996e757",
   "metadata": {},
   "source": [
    "# Preparation\n",
    "#### Load the overlay onto our FPGA"
   ]
  },
  {
   "cell_type": "code",
   "execution_count": null,
   "id": "705471d7-0d4e-4db5-b015-191c1a8af4be",
   "metadata": {
    "tags": []
   },
   "outputs": [],
   "source": [
    "ol = Overlay(OVERLAY_DIR + \"example_a.bit\")\n",
    "ol.ip_dict"
   ]
  },
  {
   "cell_type": "code",
   "execution_count": null,
   "id": "2a2d988d-fb5e-4a90-82d3-f58c0fa32c3f",
   "metadata": {},
   "outputs": [],
   "source": [
    "ol.a_top_0.register_map"
   ]
  },
  {
   "cell_type": "code",
   "execution_count": null,
   "id": "7ff180d7-cb45-4bdc-bbff-046648e402fc",
   "metadata": {},
   "outputs": [],
   "source": [
    "ol.systemgraph"
   ]
  },
  {
   "cell_type": "markdown",
   "id": "4706023f-490b-45a7-8cf5-940294c8a3c7",
   "metadata": {},
   "source": [
    "#### Register the overlay with the HoP (pushpush) Context"
   ]
  },
  {
   "cell_type": "code",
   "execution_count": null,
   "id": "918c51dc-1a51-441f-a770-440e465ee3b5",
   "metadata": {},
   "outputs": [],
   "source": [
    "context = pushpush.Context(ol)\n",
    "\n",
    "context.print_all_objects()\n",
    "\n",
    "hw_a = context.functions['hardware']['a']"
   ]
  },
  {
   "cell_type": "markdown",
   "id": "0e7f3a0c-ea9d-4ec2-9979-85492eb4dad6",
   "metadata": {},
   "source": [
    "# Usage\n",
    "#### Call hardware like a python function"
   ]
  },
  {
   "cell_type": "code",
   "execution_count": null,
   "id": "8bb3a487-c4db-4edc-8c66-a06d3150d9bb",
   "metadata": {},
   "outputs": [],
   "source": [
    "hw_a()"
   ]
  },
  {
   "cell_type": "markdown",
   "id": "e618be15-c7d4-465e-8a0b-2d69e4d37ad3",
   "metadata": {
    "tags": []
   },
   "source": [
    "# Debug"
   ]
  },
  {
   "cell_type": "code",
   "execution_count": null,
   "id": "b540e61a-723e-4641-8fbf-b68d3e58287e",
   "metadata": {
    "extensions": {
     "jupyter_dashboards": {
      "activeView": "grid_default",
      "views": {
       "grid_default": {
        "col": null,
        "height": 2,
        "hidden": true,
        "row": null,
        "width": 2
       }
      }
     }
    },
    "tags": []
   },
   "outputs": [],
   "source": [
    "import importlib as il\n",
    "if 'context' in locals():\n",
    "    del context\n",
    "    il.reload(pushpush)\n",
    "    pushpush.Context.reloadModules()\n",
    "    context = pushpush.Context(ol)"
   ]
  }
 ],
 "metadata": {
  "kernelspec": {
   "display_name": "Python 3 (ipykernel)",
   "language": "python",
   "name": "python3"
  },
  "language_info": {
   "codemirror_mode": {
    "name": "ipython",
    "version": 3
   },
   "file_extension": ".py",
   "mimetype": "text/x-python",
   "name": "python",
   "nbconvert_exporter": "python",
   "pygments_lexer": "ipython3",
   "version": "3.10.4"
  }
 },
 "nbformat": 4,
 "nbformat_minor": 5
}
