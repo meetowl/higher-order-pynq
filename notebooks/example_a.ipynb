{
 "cells": [
  {
   "cell_type": "code",
   "execution_count": null,
   "id": "311c6621-603f-45ba-ba61-67912f2bfae0",
   "metadata": {},
   "outputs": [],
   "source": [
    "from pynq import Overlay\n",
    "import os\n",
    "import sys\n",
    "\n",
    "sys.path.insert(0, '../../')\n",
    "import pushpush\n",
    "\n",
    "OVERLAY_DIR='../../overlays/example_a/'"
   ]
  },
  {
   "cell_type": "code",
   "execution_count": null,
   "id": "23a82912-3da8-48a5-9019-095b77bf8abc",
   "metadata": {},
   "outputs": [],
   "source": [
    "ol = Overlay(OVERLAY_DIR + \"example_a.bit\")\n",
    "context = pushpush.Context(OVERLAY_DIR + \"example_a.json\")"
   ]
  },
  {
   "cell_type": "code",
   "execution_count": null,
   "id": "367a7280-23d8-445c-88dc-5fec519f4811",
   "metadata": {},
   "outputs": [],
   "source": [
    "ol.ip_dict"
   ]
  },
  {
   "cell_type": "code",
   "execution_count": null,
   "id": "2a2d988d-fb5e-4a90-82d3-f58c0fa32c3f",
   "metadata": {},
   "outputs": [],
   "source": [
    "ol.a_top_0.register_map"
   ]
  },
  {
   "cell_type": "code",
   "execution_count": null,
   "id": "0d879e5d-234c-4a8c-b5ee-8dce269c6a3e",
   "metadata": {},
   "outputs": [],
   "source": [
    "context.print_all_objects()"
   ]
  },
  {
   "cell_type": "code",
   "execution_count": null,
   "id": "b67d2ec2-fd5e-4b14-a2d0-7f456c5314f5",
   "metadata": {},
   "outputs": [],
   "source": [
    "hw_a = context.hw[\"a\"]"
   ]
  },
  {
   "cell_type": "code",
   "execution_count": null,
   "id": "8bb3a487-c4db-4edc-8c66-a06d3150d9bb",
   "metadata": {},
   "outputs": [],
   "source": [
    "hw_a()"
   ]
  }
 ],
 "metadata": {
  "kernelspec": {
   "display_name": "Python 3",
   "language": "python",
   "name": "python3"
  },
  "language_info": {
   "codemirror_mode": {
    "name": "ipython",
    "version": 3
   },
   "file_extension": ".py",
   "mimetype": "text/x-python",
   "name": "python",
   "nbconvert_exporter": "python",
   "pygments_lexer": "ipython3",
   "version": "3.8.2"
  }
 },
 "nbformat": 4,
 "nbformat_minor": 5
}
